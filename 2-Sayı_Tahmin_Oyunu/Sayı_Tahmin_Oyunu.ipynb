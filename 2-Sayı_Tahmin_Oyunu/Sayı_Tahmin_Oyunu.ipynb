{
 "cells": [
  {
   "cell_type": "code",
   "execution_count": 2,
   "metadata": {},
   "outputs": [
    {
     "name": "stdout",
     "output_type": "stream",
     "text": [
      "Üzgünüm, biraz yukarı çıkmalısın. Tahminin: 50\n",
      "Tebrikler, aklımdan tuttuğum 60 sayısını 1. tahminde buldun!\n"
     ]
    }
   ],
   "source": [
    "from random import randint\n",
    "\n",
    "def guess(number):\n",
    "    count = 0\n",
    "    user_number= int(input(\"Aklımdan tuttuğum sayıyı tahmin edebilir misin? 1 ve 100 arasında bir sayı yaz ve başlayalım!: \"))\n",
    "    while number != user_number:\n",
    "      count += 1\n",
    "      if number < user_number:\n",
    "            print(f\"Üzgünüm, biraz aşağı inmelisin. Tahminin: {user_number}\")\n",
    "      else:\n",
    "            print(f\"Üzgünüm, biraz yukarı çıkmalısın. Tahminin: {user_number}\")\n",
    "      user_number = int(input(\"Lütfen, yeniden bir tahminde bulunmalısın!\"))\n",
    "    else:\n",
    "        print(f\"Tebrikler, aklımdan tuttuğum {user_number} sayısını {count}. tahminde buldun!\")\n",
    "\n",
    "guess(randint(1,100))"
   ]
  }
 ],
 "metadata": {
  "kernelspec": {
   "display_name": "Python 3.10.8 64-bit (microsoft store)",
   "language": "python",
   "name": "python3"
  },
  "language_info": {
   "codemirror_mode": {
    "name": "ipython",
    "version": 3
   },
   "file_extension": ".py",
   "mimetype": "text/x-python",
   "name": "python",
   "nbconvert_exporter": "python",
   "pygments_lexer": "ipython3",
   "version": "3.10.8"
  },
  "orig_nbformat": 4,
  "vscode": {
   "interpreter": {
    "hash": "073e8530727d0ecfdd176c43b2dd31c2a4d5b0a16221492f1e532095387c064f"
   }
  }
 },
 "nbformat": 4,
 "nbformat_minor": 2
}
