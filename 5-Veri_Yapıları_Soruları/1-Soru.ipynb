{
 "cells": [
  {
   "cell_type": "markdown",
   "metadata": {},
   "source": [
    "1- Soru: 0'dan 100'e kadar karışık sırada sayıları tutan bir listenizin olduğunu düşünün. Bu liste içerisinde n tane sayı eksik. n ve eksik sayıları bulunuz."
   ]
  },
  {
   "cell_type": "code",
   "execution_count": 59,
   "metadata": {},
   "outputs": [
    {
     "name": "stdout",
     "output_type": "stream",
     "text": [
      "Toplam eksik sayılar: 6 tane \n",
      "Eksik sayılar: [1, 10, 50, 54, 56, 57] \n"
     ]
    }
   ],
   "source": [
    "import random\n",
    "\n",
    "numbers = [i for i in range(0, 101)]\n",
    "random.shuffle(numbers)\n",
    "\n",
    "n = random.randint(1, 101)\n",
    "for i in range(0, n):\n",
    "    numbers.pop()\n",
    "\n",
    "missing = []\n",
    "for i in range(0, 101):\n",
    "     if i not in numbers:\n",
    "        missing.append(i)\n",
    "print(\"Toplam eksik sayılar: {} tane \\nEksik sayılar: {} \".format(len(missing), missing))"
   ]
  }
 ],
 "metadata": {
  "kernelspec": {
   "display_name": "Python 3.10.8 64-bit (microsoft store)",
   "language": "python",
   "name": "python3"
  },
  "language_info": {
   "codemirror_mode": {
    "name": "ipython",
    "version": 3
   },
   "file_extension": ".py",
   "mimetype": "text/x-python",
   "name": "python",
   "nbconvert_exporter": "python",
   "pygments_lexer": "ipython3",
   "version": "3.10.8"
  },
  "orig_nbformat": 4,
  "vscode": {
   "interpreter": {
    "hash": "073e8530727d0ecfdd176c43b2dd31c2a4d5b0a16221492f1e532095387c064f"
   }
  }
 },
 "nbformat": 4,
 "nbformat_minor": 2
}
