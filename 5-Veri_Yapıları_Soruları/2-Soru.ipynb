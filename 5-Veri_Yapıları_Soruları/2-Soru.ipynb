{
 "cells": [
  {
   "cell_type": "markdown",
   "metadata": {},
   "source": [
    "2- Soru: 0'dan 100'e kadar karışık sırada sayıları tutan bir listenizin olduğunu düşünün. Bu liste içerisinde bu defa n tane sayı yerine 1 adet sayı eksik. Eksik olan sayıyı bulunuz."
   ]
  },
  {
   "cell_type": "code",
   "execution_count": 4,
   "metadata": {},
   "outputs": [
    {
     "name": "stdout",
     "output_type": "stream",
     "text": [
      "Eksik sayımız: 39 \n"
     ]
    }
   ],
   "source": [
    "#1. Çözüm Yolu\n",
    "import random\n",
    "\n",
    "numbers = [i for i in range(0, 101)]\n",
    "random.shuffle(numbers)\n",
    "\n",
    "numbers.remove(random.choice(numbers))\n",
    "\n",
    "for i in range(0, 101):\n",
    "     if i not in numbers:\n",
    "        missing = i\n",
    "print(f\"Eksik sayımız: {missing} \")"
   ]
  },
  {
   "cell_type": "code",
   "execution_count": 6,
   "metadata": {},
   "outputs": [
    {
     "name": "stdout",
     "output_type": "stream",
     "text": [
      "Eksik olan sayı:  {57}\n"
     ]
    }
   ],
   "source": [
    "#2. Çözüm Yolu\n",
    "import random\n",
    "\n",
    "numbers = [i for i in range(0, 101)]\n",
    "random.shuffle(numbers)\n",
    "\n",
    "numbers.remove(random.choice(numbers))\n",
    "\n",
    "numbers_set = {i for i in range(0, 100)}\n",
    "\n",
    "difference_set = numbers_set - set(numbers)\n",
    "print(f\"Eksik olan sayı:  {difference_set}\")"
   ]
  },
  {
   "cell_type": "code",
   "execution_count": null,
   "metadata": {},
   "outputs": [],
   "source": []
  }
 ],
 "metadata": {
  "kernelspec": {
   "display_name": "Python 3.10.8 64-bit (microsoft store)",
   "language": "python",
   "name": "python3"
  },
  "language_info": {
   "codemirror_mode": {
    "name": "ipython",
    "version": 3
   },
   "file_extension": ".py",
   "mimetype": "text/x-python",
   "name": "python",
   "nbconvert_exporter": "python",
   "pygments_lexer": "ipython3",
   "version": "3.10.8"
  },
  "orig_nbformat": 4,
  "vscode": {
   "interpreter": {
    "hash": "073e8530727d0ecfdd176c43b2dd31c2a4d5b0a16221492f1e532095387c064f"
   }
  }
 },
 "nbformat": 4,
 "nbformat_minor": 2
}
